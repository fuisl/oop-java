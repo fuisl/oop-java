{
 "cells": [
  {
   "cell_type": "code",
   "execution_count": 1,
   "metadata": {},
   "outputs": [
    {
     "name": "stdout",
     "output_type": "stream",
     "text": [
      "2 5\n"
     ]
    }
   ],
   "source": [
    "msg_str = \"-_-_@\"\n",
    "msg_set = set(msg_str)\n",
    "emoticons = [\":)\", \":-)\", \":-(\", \";-)\", \"xD\", \"^_^\", \"-_-\", \"^o^\", \"^^;\", \"(..)\"]\n",
    "emo_set = set(\"\".join(emoticons))\n",
    "\n",
    "def check_emoticons(msg):\n",
    "    emoticons = [\":)\", \":-)\", \":-(\", \";-)\", \"xD\", \"^_^\", \"-_-\", \"^o^\", \"^^;\", \"(..)\"]\n",
    "    temp = msg\n",
    "    count = 0\n",
    "    while True:\n",
    "        for emo in emoticons:\n",
    "            if emo in temp:\n",
    "                temp = temp.replace(emo, \"\")\n",
    "                count += len(emo)\n",
    "                break\n",
    "        else:\n",
    "            break\n",
    "    \n",
    "    return len(msg) - count\n",
    "\n",
    "max_count = 0\n",
    "min_count = 101\n",
    "\n",
    "for emo in emo_set:\n",
    "    for char in msg_set:\n",
    "        temp = msg_str.replace(char, emo)\n",
    "        min_count = min(min_count, check_emoticons(temp))\n",
    "        max_count = max(max_count, check_emoticons(temp))\n",
    "\n",
    "print(min_count, max_count)"
   ]
  },
  {
   "cell_type": "code",
   "execution_count": 2,
   "metadata": {},
   "outputs": [
    {
     "data": {
      "text/plain": [
       "':) :-) :-( ;-) xD ^_^ -_- ^o^ ^^; (..)'"
      ]
     },
     "execution_count": 2,
     "metadata": {},
     "output_type": "execute_result"
    }
   ],
   "source": [
    "\" \".join([\":)\", \":-)\", \":-(\", \";-)\", \"xD\", \"^_^\", \"-_-\", \"^o^\", \"^^;\", \"(..)\"])"
   ]
  }
 ],
 "metadata": {
  "kernelspec": {
   "display_name": "aio",
   "language": "python",
   "name": "python3"
  },
  "language_info": {
   "codemirror_mode": {
    "name": "ipython",
    "version": 3
   },
   "file_extension": ".py",
   "mimetype": "text/x-python",
   "name": "python",
   "nbconvert_exporter": "python",
   "pygments_lexer": "ipython3",
   "version": "3.12.3"
  }
 },
 "nbformat": 4,
 "nbformat_minor": 2
}
