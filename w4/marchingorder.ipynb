{
 "cells": [
  {
   "cell_type": "code",
   "execution_count": null,
   "metadata": {},
   "outputs": [
    {
     "name": "stdout",
     "output_type": "stream",
     "text": [
      "NO\n"
     ]
    }
   ],
   "source": [
    "from math import gcd\n",
    "\n",
    "def extended_gcd(a, b):\n",
    "    \"\"\"Extended Euclidean Algorithm. Returns gcd of a and b, and coefficients s and t.\"\"\"\n",
    "    if a == 0:\n",
    "        return b, 0, 1\n",
    "    else:\n",
    "        g, t, s = extended_gcd(b % a, a)\n",
    "        return g, s - (b // a) * t, t\n",
    "\n",
    "\n",
    "def crt(a_list, n_list):\n",
    "    \"\"\"Chinese Remainder Theorem.\"\"\"\n",
    "    if len(a_list) != len(n_list):\n",
    "        raise ValueError(\"length not equal\")\n",
    "\n",
    "    # Initialize with the first congruence\n",
    "    m = a_list[0]\n",
    "    N = n_list[0]\n",
    "\n",
    "    for i in range(1, len(a_list)):\n",
    "        a_i = a_list[i]\n",
    "        n_i = n_list[i]\n",
    "\n",
    "        if N == 0 or n_i == 0:\n",
    "            raise ValueError(\"moduli must be greater than 0.\")\n",
    "\n",
    "        # Compute gcd and check for compatibility\n",
    "        d = gcd(N, n_i)\n",
    "        c = a_i - m\n",
    "        if c % d != 0:\n",
    "            return (-1, -1)\n",
    "\n",
    "        # Solve for k\n",
    "        k = c // d\n",
    "        n1 = N // d\n",
    "        n2 = n_i // d\n",
    "\n",
    "        # Extended GCD to find s and t\n",
    "        g, s, t = extended_gcd(n1, n2)\n",
    "\n",
    "        # Update the solution\n",
    "        m = (m + N * s * k) % (N * n2)\n",
    "        N = N * n2  # Update modulus\n",
    "\n",
    "    return m % N, N\n",
    "\n",
    "\n",
    "n = int(input())\n",
    "my_str = input()\n",
    "\n",
    "my_str_list = list(my_str)\n",
    "rem = []\n",
    "\n",
    "alphabet = [chr(i + 65) for i in range(n)]\n",
    "for c in my_str_list:\n",
    "    rem.append(alphabet.index(c))\n",
    "    alphabet.remove(c)\n",
    "rem.reverse()\n",
    "\n",
    "a, b = crt(rem, list(range(1, n + 1)))\n",
    "\n",
    "if a == -1:\n",
    "    print(\"NO\")\n",
    "else:\n",
    "    print(\"YES\")\n",
    "    print(a)"
   ]
  }
 ],
 "metadata": {
  "kernelspec": {
   "display_name": "checkin",
   "language": "python",
   "name": "python3"
  },
  "language_info": {
   "codemirror_mode": {
    "name": "ipython",
    "version": 3
   },
   "file_extension": ".py",
   "mimetype": "text/x-python",
   "name": "python",
   "nbconvert_exporter": "python",
   "pygments_lexer": "ipython3",
   "version": "3.11.9"
  }
 },
 "nbformat": 4,
 "nbformat_minor": 2
}
