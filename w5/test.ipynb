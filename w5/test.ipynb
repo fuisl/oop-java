{
 "cells": [
  {
   "cell_type": "code",
   "execution_count": 8,
   "metadata": {},
   "outputs": [],
   "source": [
    "def check_emoticons(msg):\n",
    "    emoticons = [\":)\", \":-)\", \":-(\", \";-)\", \"xD\", \"^_^\", \"-_-\", \"^o^\", \"^^;\", \"(..)\"]\n",
    "    temp = msg\n",
    "    for emoticon in emoticons:\n",
    "        temp = temp.replace(emoticon, \"@\")  # replace emoticons with @\n",
    "        \n",
    "    return len(temp), temp"
   ]
  },
  {
   "cell_type": "code",
   "execution_count": 9,
   "metadata": {},
   "outputs": [],
   "source": [
    "my_str = \"xDEoE_E\""
   ]
  },
  {
   "cell_type": "code",
   "execution_count": 11,
   "metadata": {},
   "outputs": [
    {
     "data": {
      "text/plain": [
       "(6, '@EoE_E')"
      ]
     },
     "execution_count": 11,
     "metadata": {},
     "output_type": "execute_result"
    }
   ],
   "source": [
    "check_emoticons(my_str)"
   ]
  },
  {
   "cell_type": "code",
   "execution_count": 88,
   "metadata": {},
   "outputs": [
    {
     "name": "stdout",
     "output_type": "stream",
     "text": [
      "2 5\n"
     ]
    }
   ],
   "source": [
    "msg_str = \":-):(\"\n",
    "msg_set = set(msg_str)\n",
    "emoticons = [\":)\", \":-)\", \":-(\", \";-)\", \"xD\", \"^_^\", \"-_-\", \"^o^\", \"^^;\", \"(..)\"]\n",
    "emo_set = set(\"\".join(emoticons))\n",
    "\n",
    "def check_emoticons(msg):\n",
    "    emoticons = [\":)\", \":-)\", \":-(\", \";-)\", \"xD\", \"^_^\", \"-_-\", \"^o^\", \"^^;\", \"(..)\"]\n",
    "    temp = msg\n",
    "\n",
    "    iloc = [temp.find(emoticon) for emoticon in emoticons]  # [-1, 13, 2, -1, -1, -1, -1, -1, -1, -1]\n",
    "    \n",
    "    filtered = sorted([emoticons[i] for i in range(len(iloc)) if iloc[i] != -1], key=lambda x: iloc[emoticons.index(x)])\n",
    "    for emoticon in filtered:\n",
    "        temp = temp.replace(emoticon, \"@\")  # replace emoticons with @\n",
    "        \n",
    "    return len(temp)\n",
    "\n",
    "max_count = 0\n",
    "min_count = 101\n",
    "\n",
    "for emo in emo_set:\n",
    "    for char in msg_set:\n",
    "        temp = msg_str.replace(char, emo)\n",
    "        min_count = min(min_count, check_emoticons(temp))\n",
    "        max_count = max(max_count, check_emoticons(temp))\n",
    "\n",
    "print(min_count, max_count)"
   ]
  }
 ],
 "metadata": {
  "kernelspec": {
   "display_name": "checkin",
   "language": "python",
   "name": "python3"
  },
  "language_info": {
   "codemirror_mode": {
    "name": "ipython",
    "version": 3
   },
   "file_extension": ".py",
   "mimetype": "text/x-python",
   "name": "python",
   "nbconvert_exporter": "python",
   "pygments_lexer": "ipython3",
   "version": "3.11.9"
  }
 },
 "nbformat": 4,
 "nbformat_minor": 2
}
